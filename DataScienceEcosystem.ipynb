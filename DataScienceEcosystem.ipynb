{
 "cells": [
  {
   "cell_type": "markdown",
   "id": "7efac627-b26c-4c25-a040-fdb7bb751f45",
   "metadata": {},
   "source": [
    "# Data Science Tools and Ecosystem"
   ]
  },
  {
   "cell_type": "markdown",
   "id": "20df7ed2-7d2d-4cc6-aeaf-9b5d85f7aab3",
   "metadata": {},
   "source": [
    "In this notebook, Data Science Tools and Ecosystem are summarized.\n",
    "\n",
    "**Objectives:**\n",
    "- List popular languages for Data Science\n",
    "- Introduce to Jupyter Notebooks\n",
    "- Introduce to Version Control with Git and Github"
   ]
  },
  {
   "cell_type": "markdown",
   "id": "eaf6911e-c885-4cb7-b357-447475b38686",
   "metadata": {},
   "source": [
    "Some of the popular languages that Data Scientists use are:\n",
    "1. Python\n",
    "2. R\n",
    "3. Julia"
   ]
  },
  {
   "cell_type": "markdown",
   "id": "fa253eb2-1a85-43e2-9dbc-5a6c35bd2538",
   "metadata": {
    "tags": []
   },
   "source": [
    "Some of the commonly used libraries used by Data Scientists include:\n",
    "1. Pandas\n",
    "2. ScikitLearn\n",
    "3. Tensorflow"
   ]
  },
  {
   "cell_type": "markdown",
   "id": "d4e4e433-8782-410a-b7c6-5b21ddaa46fc",
   "metadata": {
    "tags": []
   },
   "source": [
    "| Data Science Tools |\n",
    "| ----------------- |\n",
    "| Jupyter Notebooks |\n",
    "| R Studio |\n",
    "| VS Code |"
   ]
  },
  {
   "cell_type": "markdown",
   "id": "45a4254e-652c-4569-8c5f-6f2b12ab85e9",
   "metadata": {},
   "source": [
    "### Below are a few examples of evaluating arithmetic expressions in Python\n",
    "- x = 4 + 5\n",
    "- y = 3 * 7\n",
    "- z = x + y"
   ]
  },
  {
   "cell_type": "code",
   "execution_count": 3,
   "id": "e1cb1f63-9384-4f04-ab93-2ae19a151b29",
   "metadata": {
    "tags": []
   },
   "outputs": [
    {
     "data": {
      "text/plain": [
       "17"
      ]
     },
     "execution_count": 3,
     "metadata": {},
     "output_type": "execute_result"
    }
   ],
   "source": [
    "# This a simple arithmetic expression to mutiply then add integers\n",
    "(3*4)+5"
   ]
  },
  {
   "cell_type": "code",
   "execution_count": 4,
   "id": "5c73809d-7c55-4560-9d4a-fce341a61c75",
   "metadata": {
    "tags": []
   },
   "outputs": [
    {
     "data": {
      "text/plain": [
       "3.3333333333333335"
      ]
     },
     "execution_count": 4,
     "metadata": {},
     "output_type": "execute_result"
    }
   ],
   "source": [
    "# This will convert 200 minutes to hours by diving by 60\n",
    "200 / 60"
   ]
  },
  {
   "cell_type": "markdown",
   "id": "506ef98d-273b-4dcf-96b8-a7d75c937c3a",
   "metadata": {},
   "source": [
    "## Author\n",
    "Luis Sebastian Ibarra"
   ]
  }
 ],
 "metadata": {
  "kernelspec": {
   "display_name": "Python",
   "language": "python",
   "name": "conda-env-python-py"
  },
  "language_info": {
   "codemirror_mode": {
    "name": "ipython",
    "version": 3
   },
   "file_extension": ".py",
   "mimetype": "text/x-python",
   "name": "python",
   "nbconvert_exporter": "python",
   "pygments_lexer": "ipython3",
   "version": "3.7.12"
  }
 },
 "nbformat": 4,
 "nbformat_minor": 5
}
